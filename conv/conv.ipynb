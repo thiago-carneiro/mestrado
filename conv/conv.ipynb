{
 "cells": [
  {
   "cell_type": "code",
   "execution_count": 23,
   "metadata": {},
   "outputs": [],
   "source": [
    "import numpy as np\n",
    "import pandas as pd\n",
    "import matplotlib.pyplot as plt\n",
    "from typing import List"
   ]
  },
  {
   "cell_type": "code",
   "execution_count": 24,
   "metadata": {},
   "outputs": [],
   "source": [
    "class Camada():\n",
    "    def __init__(self, profundidade: float, velocidade: float, densidade: float):\n",
    "        self.prof = profundidade\n",
    "        self.vel = velocidade\n",
    "        self.rho = densidade\n",
    "        self.imped = velocidade*densidade # impedância\n",
    "        self.tempo = profundidade/velocidade"
   ]
  },
  {
   "cell_type": "code",
   "execution_count": 25,
   "outputs": [],
   "source": [
    "class Modelo():\n",
    "    def __init__(self, camadas: List[Camada]):\n",
    "        self.camadas = list(camadas)\n",
    "        r = []\n",
    "        t = []\n",
    "        for i in range(len(camadas)-1):\n",
    "            z1 = camadas[i].imped\n",
    "            z2 = camadas[i+1].imped\n",
    "            r_i = (z2 - z1) / (z2 + z1)\n",
    "            t_i = 1 - r_i\n",
    "            r.append(r_i)\n",
    "            t.append(t_i)\n",
    "        self.reflex = r\n",
    "    def obter_pulsos(self, t_max: int = 3) -> pd.DataFrame:\n",
    "        p = self.pulsar(i = 0, t = 0., pulso=1., sentido=1, t_max = t_max)\n",
    "        return pd.DataFrame(p).groupby('instante').sum()\n",
    "    def obter_pulsos_limpo(self, t_max: int = 3) -> pd.DataFrame:\n",
    "        p = self.pulsar_limpo(i = 0, t = 0., pulso=1., sentido=1, t_max = t_max)\n",
    "        return pd.DataFrame(p).groupby('instante').sum()\n",
    "    def pulsar(self, i: int, t: float, pulso: float, sentido: int, t_max: int):\n",
    "        t_i = t + self.camadas[i].tempo\n",
    "        ida = vinda = None\n",
    "        if t_i > t_max:\n",
    "            return None\n",
    "        if i == 0 and sentido == -1:\n",
    "            return [{'instante':t_i, 'pulso': pulso}]\n",
    "        if sentido == 1 and i<len(self.reflex):\n",
    "            ida = self.pulsar(i+1, t_i, pulso*(1-self.reflex[i]), 1, t_max)\n",
    "            vinda = self.pulsar(i, t_i, pulso*self.reflex[i], -1, t_max)\n",
    "        if sentido == -1:\n",
    "            vinda = self.pulsar(i-1, t_i, pulso*(1+self.reflex[i-1]), -1, t_max)\n",
    "            ida = self.pulsar(i, t_i, -pulso*self.reflex[i-1], 1, t_max)\n",
    "        retorno = []\n",
    "        if ida is not None:\n",
    "            retorno += ida\n",
    "        if vinda is not None:\n",
    "            retorno += vinda\n",
    "        return retorno\n",
    "    def pulsar_limpo(self, i: int, t: float, pulso: float, sentido: int, t_max: int):\n",
    "        t_i = t + self.camadas[i].tempo\n",
    "        ida = vinda = None\n",
    "        if t_i > t_max:\n",
    "            return None\n",
    "        if i == 0 and sentido == -1:\n",
    "            return [{'instante':t_i, 'pulso': pulso}]\n",
    "        if sentido == 1 and i<len(self.reflex):\n",
    "            ida = self.pulsar_limpo(i+1, t_i, pulso*(1-self.reflex[i]), 1, t_max)\n",
    "            vinda = self.pulsar_limpo(i, t_i, pulso*self.reflex[i], -1, t_max)\n",
    "        if sentido == -1:\n",
    "            vinda = self.pulsar_limpo(i-1, t_i, pulso*(1+self.reflex[i-1]), -1, t_max)\n",
    "        retorno = []\n",
    "        if ida is not None:\n",
    "            retorno += ida\n",
    "        if vinda is not None:\n",
    "            retorno += vinda\n",
    "        return retorno"
   ],
   "metadata": {
    "collapsed": false,
    "pycharm": {
     "name": "#%%\n"
    }
   }
  },
  {
   "cell_type": "code",
   "execution_count": 60,
   "outputs": [],
   "source": [
    "class Modelo2D():\n",
    "    def __init__(self, camadas2D: List[List[Camada]]):\n",
    "        cols = []\n",
    "        nz = 0\n",
    "        for col in camadas2D:\n",
    "            m_i = Modelo(col)\n",
    "            cols.append(m_i)\n",
    "            prof_i = np.sum([camada.prof for camada in col])\n",
    "            nz = prof_i if prof_i > nz else nz\n",
    "        self.colunas=cols\n",
    "        self.nz = nz\n",
    "        self.nx = len(camadas2D)\n",
    "    def rasterizar(self):\n",
    "        v2D = np.zeros((self.nx,self.nz))\n",
    "        rho2D = np.zeros((self.nx,self.nz))\n",
    "        for x in range(self.nx):\n",
    "            col = self.colunas[x]\n",
    "            z = 0\n",
    "            for camada in col.camadas:\n",
    "                z_ = z+camada.prof\n",
    "                v2D[x,z:z_]=camada.vel\n",
    "                rho2D[x,z:z_]=camada.rho\n",
    "                z = z_\n",
    "        return {'velocidades': v2D.T,\n",
    "                'densidades': rho2D.T}\n",
    "    def adquirir_sismica(self, t_max: int = 3, res: int = 1e2):\n",
    "        sis = np.zeros((int(self.nx),int(t_max*res)))\n",
    "        for x in range(self.nx):\n",
    "            col = self.colunas[x]\n",
    "            pulsos = col.obter_pulsos(t_max)\n",
    "            pulsos['z']=(pulsos.index*res).astype(int)\n",
    "            pulsos_z = pulsos.groupby('z').sum()\n",
    "            for z, linha in pulsos_z.iterrows():\n",
    "                sis[x,z] += linha['pulso']\n",
    "        return sis.T\n",
    "    def plot(self):\n",
    "        rast = self.rasterizar()\n",
    "        v2D = rast['velocidades']\n",
    "        rho2D = rast['densidades']\n",
    "        sis = self.adquirir_sismica()\n",
    "        fig, ax = plt.subplots(1,3, figsize=(10,10))\n",
    "        ax[0].imshow(v2D, cmap='binary', aspect='auto')\n",
    "        ax[1].imshow(rho2D, cmap='binary', aspect='auto')\n",
    "        ax[2].imshow(sis, cmap='binary', aspect='auto')\n",
    "        plt.show()"
   ],
   "metadata": {
    "collapsed": false,
    "pycharm": {
     "name": "#%%\n"
    }
   }
  },
  {
   "cell_type": "code",
   "execution_count": 61,
   "outputs": [],
   "source": [
    "class ModeloParalelas(Modelo2D):\n",
    "    def __init__(self, v = (1500,2800,4500,3200), rho = (1, 2, 2.16, 2.6)):\n",
    "        nx = 300\n",
    "        c2D = []\n",
    "        c = []\n",
    "        for i in range(len(v)):\n",
    "            camada = Camada(1000,v[i],rho[i])\n",
    "            c.append(camada)\n",
    "        for x in range(nx):\n",
    "            c2D.append(c)\n",
    "        super().__init__(c2D)"
   ],
   "metadata": {
    "collapsed": false,
    "pycharm": {
     "name": "#%%\n"
    }
   }
  },
  {
   "cell_type": "code",
   "execution_count": 34,
   "outputs": [
    {
     "ename": "IndentationError",
     "evalue": "expected an indented block (1013388918.py, line 6)",
     "output_type": "error",
     "traceback": [
      "\u001B[0;36m  File \u001B[0;32m\"/var/folders/0r/vx1bqj2j1p34nrv7gnspyr8w0000gn/T/ipykernel_78245/1013388918.py\"\u001B[0;36m, line \u001B[0;32m6\u001B[0m\n\u001B[0;31m    super().__init__(c2D)\u001B[0m\n\u001B[0m    ^\u001B[0m\n\u001B[0;31mIndentationError\u001B[0m\u001B[0;31m:\u001B[0m expected an indented block\n"
     ]
    }
   ],
   "source": [
    "class ModeloDomo(Modelo2D):\n",
    "    def __init__(self, v = (1500,2800,4500,3200), rho = (1, 2, 2.16, 2.6)):\n",
    "        nx = 300\n",
    "        for x in range(nx):\n",
    "\n",
    "        super().__init__(c2D)"
   ],
   "metadata": {
    "collapsed": false,
    "pycharm": {
     "name": "#%%\n"
    }
   }
  },
  {
   "cell_type": "code",
   "execution_count": 62,
   "outputs": [
    {
     "data": {
      "text/plain": "<Figure size 720x720 with 3 Axes>",
      "image/png": "[encoded data removed]"
     },
     "metadata": {
      "needs_background": "light"
     },
     "output_type": "display_data"
    }
   ],
   "source": [
    "ModeloParalelas().plot()"
   ],
   "metadata": {
    "collapsed": false,
    "pycharm": {
     "name": "#%%\n"
    }
   }
  },
  {
   "cell_type": "code",
   "execution_count": 19,
   "outputs": [
    {
     "data": {
      "text/plain": "         a  b\nz            \n0.0     10  1\n1000.0  20  2\n2000.0  30  3\n3000.0  40  4",
      "text/html": "<div>\n<style scoped>\n    .dataframe tbody tr th:only-of-type {\n        vertical-align: middle;\n    }\n\n    .dataframe tbody tr th {\n        vertical-align: top;\n    }\n\n    .dataframe thead th {\n        text-align: right;\n    }\n</style>\n<table border=\"1\" class=\"dataframe\">\n  <thead>\n    <tr style=\"text-align: right;\">\n      <th></th>\n      <th>a</th>\n      <th>b</th>\n    </tr>\n    <tr>\n      <th>z</th>\n      <th></th>\n      <th></th>\n    </tr>\n  </thead>\n  <tbody>\n    <tr>\n      <th>0.0</th>\n      <td>10</td>\n      <td>1</td>\n    </tr>\n    <tr>\n      <th>1000.0</th>\n      <td>20</td>\n      <td>2</td>\n    </tr>\n    <tr>\n      <th>2000.0</th>\n      <td>30</td>\n      <td>3</td>\n    </tr>\n    <tr>\n      <th>3000.0</th>\n      <td>40</td>\n      <td>4</td>\n    </tr>\n  </tbody>\n</table>\n</div>"
     },
     "execution_count": 19,
     "metadata": {},
     "output_type": "execute_result"
    }
   ],
   "source": [
    "df = pd.DataFrame([{'a': 10, 'b': 1},\n",
    "                   {'a': 20, 'b': 2},\n",
    "                   {'a': 30, 'b': 3},\n",
    "                   {'a': 40, 'b': 4}])\n",
    "df['z'] = (df.index*1000).astype(float)\n",
    "df.groupby('z').sum()"
   ],
   "metadata": {
    "collapsed": false,
    "pycharm": {
     "name": "#%%\n"
    }
   }
  },
  {
   "cell_type": "code",
   "execution_count": 14,
   "outputs": [
    {
     "name": "stdout",
     "output_type": "stream",
     "text": [
      "criar_camada\n",
      "\tCamada criada\n",
      "criar_modelo\n",
      "\tModelo criado\n",
      "obter_pulsos\n",
      "             pulso\n",
      "instante          \n",
      "2.0       0.333333\n",
      "4.0       0.177778\n",
      "6.0       0.110053\n",
      "8.0      -0.018947\n",
      "10.0     -0.003436\n",
      "obter_pulsos_limpo\n",
      "Float64Index([4.0, 8.0, 12.0], dtype='float64', name='instante')\n",
      "obter_reflexividade_transmissividade\n",
      "\t 0.25\n"
     ]
    }
   ],
   "source": [
    "class Teste():\n",
    "    @classmethod\n",
    "    def testar(cls):\n",
    "        method_list = [func for func in dir(cls) if callable(getattr(cls, func)) and not func.startswith('_') and not func == 'testar']\n",
    "        for metodo in method_list:\n",
    "            print(metodo)\n",
    "            getattr(cls,metodo)()\n",
    "    @staticmethod\n",
    "    def criar_camada():\n",
    "        Camada(1000,1500,1)\n",
    "        print('\\tCamada criada')\n",
    "    @staticmethod\n",
    "    def criar_modelo():\n",
    "        lista = [Camada(1000,1500,1),\n",
    "                 Camada(2000,2500,1.5)]\n",
    "        Modelo(lista)\n",
    "        print('\\tModelo criado')\n",
    "    @staticmethod\n",
    "    def obter_reflexividade_transmissividade():\n",
    "        lista = [Camada(1000,1500,1),\n",
    "                 Camada(2000,2500,1)]\n",
    "        m = Modelo(lista)\n",
    "        print('\\t', m.reflex[0])\n",
    "    @staticmethod\n",
    "    def obter_pulsos_limpo():\n",
    "        lista = [Camada(1000,1000,1),\n",
    "                 Camada(2000,2000,1),\n",
    "                 Camada(3000,3000,1),\n",
    "                 Camada(4000,4000,1)]\n",
    "        m = Modelo(lista)\n",
    "        print(m.obter_pulsos_limpo(t_max=10))\n",
    "    @staticmethod\n",
    "    def obter_pulsos():\n",
    "        lista = [Camada(1000,1000,1),\n",
    "                 Camada(2000,2000,1),\n",
    "                 Camada(3000,3000,1),\n",
    "                 Camada(4000,4000,1)]\n",
    "        m = Modelo(lista)\n",
    "        print(m.obter_pulsos(t_max=10))\n",
    "Teste.testar()"
   ],
   "metadata": {
    "collapsed": false,
    "pycharm": {
     "name": "#%%\n"
    }
   }
  }
 ],
 "metadata": {
  "interpreter": {
   "hash": "c6e4e9f98eb68ad3b7c296f83d20e6de614cb42e90992a65aa266555a3137d0d"
  },
  "kernelspec": {
   "display_name": "Python 3.9.4 ('base')",
   "language": "python",
   "name": "python3"
  },
  "language_info": {
   "codemirror_mode": {
    "name": "ipython",
    "version": 3
   },
   "file_extension": ".py",
   "mimetype": "text/x-python",
   "name": "python",
   "nbconvert_exporter": "python",
   "pygments_lexer": "ipython3",
   "version": "3.9.4"
  },
  "orig_nbformat": 4
 },
 "nbformat": 4,
 "nbformat_minor": 2
}