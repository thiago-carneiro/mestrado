{
 "cells": [
  {
   "cell_type": "code",
   "execution_count": 4,
   "metadata": {},
   "outputs": [],
   "source": [
    "import numpy as np\n",
    "import pandas as pd\n",
    "from typing import List"
   ]
  },
  {
   "cell_type": "code",
   "execution_count": 5,
   "metadata": {},
   "outputs": [],
   "source": [
    "class Camada():\n",
    "    def __init__(self, profundidade: float, velocidade: float, densidade: float):\n",
    "        self.prof = profundidade\n",
    "        self.vel = velocidade\n",
    "        self.rho = densidade\n",
    "        self.imped = velocidade*densidade # impedância\n",
    "        self.tempo = profundidade/velocidade\n",
    "\n",
    "class Modelo():\n",
    "    def __init__(self, camadas: List[Camada]):\n",
    "        self.camadas = list(camadas)\n",
    "        r = []\n",
    "        t = []\n",
    "        for i in range(len(camadas)-1):\n",
    "            z1 = camadas[i].imped\n",
    "            z2 = camadas[i+1].imped\n",
    "            r_i = (z2 - z1) / (z2 + z1)\n",
    "            t_i = 1 - r_i\n",
    "            r.append(r_i)\n",
    "            t.append(t_i)\n",
    "        self.reflex = r\n",
    "    def obter_pulsos(self, t_max: float = 3.):\n",
    "        p = self.pulsar(i = 0, t = 0., pulso=1., sentido=1, t_max = t_max)\n",
    "        return pd.DataFrame(p).groupby('instante').sum()\n",
    "    def obter_pulsos_limpo(self, t_max: float = 3.):\n",
    "        p = self.pulsar_limpo(i = 0, t = 0., pulso=1., sentido=1, t_max = t_max)\n",
    "        return pd.DataFrame(p).groupby('instante').sum()\n",
    "    def pulsar(self, i: int, t: float, pulso: float, sentido: int, t_max: float):\n",
    "        t_i = t + self.camadas[i].tempo\n",
    "        ida = vinda = None\n",
    "        if t_i > t_max:\n",
    "            return None\n",
    "        if i == 0 and sentido == -1:\n",
    "            return [{'instante':t_i, 'pulso': pulso}]\n",
    "        if sentido == 1 and i<len(self.reflex):\n",
    "            ida = self.pulsar(i+1, t_i, pulso*(1-self.reflex[i]), 1, t_max)\n",
    "            vinda = self.pulsar(i, t_i, pulso*self.reflex[i], -1, t_max)\n",
    "        if sentido == -1:\n",
    "            vinda = self.pulsar(i-1, t_i, pulso*(1+self.reflex[i-1]), -1, t_max)\n",
    "            ida = self.pulsar(i, t_i, -pulso*self.reflex[i-1], 1, t_max)\n",
    "        retorno = []\n",
    "        if ida is not None:\n",
    "            retorno += ida\n",
    "        if vinda is not None:\n",
    "            retorno += vinda\n",
    "        return retorno\n",
    "    def pulsar_limpo(self, i: int, t: float, pulso: float, sentido: int, t_max: float):\n",
    "        t_i = t + self.camadas[i].tempo\n",
    "        ida = vinda = None\n",
    "        if t_i > t_max:\n",
    "            return None\n",
    "        if i == 0 and sentido == -1:\n",
    "            return [{'instante':t_i, 'pulso': pulso}]\n",
    "        if sentido == 1 and i<len(self.reflex):\n",
    "            ida = self.pulsar_limpo(i+1, t_i, pulso*(1-self.reflex[i]), 1, t_max)\n",
    "            vinda = self.pulsar_limpo(i, t_i, pulso*self.reflex[i], -1, t_max)\n",
    "        if sentido == -1:\n",
    "            vinda = self.pulsar_limpo(i-1, t_i, pulso*(1+self.reflex[i-1]), -1, t_max)\n",
    "        retorno = []\n",
    "        if ida is not None:\n",
    "            retorno += ida\n",
    "        if vinda is not None:\n",
    "            retorno += vinda\n",
    "        return retorno\n",
    "\n",
    "class Modelo2D():\n",
    "    def __init__(self, camadas2D):\n",
    "\n",
    "        for c in range(len(camadas2D)):\n",
    "            m_i = Modelo(c)\n",
    "\n"
   ]
  },
  {
   "cell_type": "code",
   "execution_count": 5,
   "outputs": [],
   "source": [],
   "metadata": {
    "collapsed": false,
    "pycharm": {
     "name": "#%%\n"
    }
   }
  },
  {
   "cell_type": "code",
   "execution_count": 6,
   "outputs": [
    {
     "name": "stdout",
     "output_type": "stream",
     "text": [
      "criar_camada\n",
      "\tCamada criada\n",
      "criar_modelo\n",
      "\tModelo criado\n",
      "obter_pulsos\n",
      "             pulso\n",
      "instante          \n",
      "2.0       0.333333\n",
      "4.0       0.177778\n",
      "6.0       0.110053\n",
      "8.0      -0.018947\n",
      "10.0     -0.003436\n",
      "obter_pulsos_limpo\n",
      "             pulso\n",
      "instante          \n",
      "2.0       0.333333\n",
      "4.0       0.177778\n",
      "6.0       0.121905\n",
      "obter_reflexividade_transmissividade\n",
      "\t 0.25\n"
     ]
    }
   ],
   "source": [
    "class Teste():\n",
    "    @classmethod\n",
    "    def testar(cls):\n",
    "        method_list = [func for func in dir(cls) if callable(getattr(cls, func)) and not func.startswith('_') and not func == 'testar']\n",
    "        for metodo in method_list:\n",
    "            print(metodo)\n",
    "            getattr(cls,metodo)()\n",
    "    @staticmethod\n",
    "    def criar_camada():\n",
    "        Camada(1000,1500,1)\n",
    "        print('\\tCamada criada')\n",
    "    @staticmethod\n",
    "    def criar_modelo():\n",
    "        lista = [Camada(1000,1500,1),\n",
    "                 Camada(2000,2500,1.5)]\n",
    "        Modelo(lista)\n",
    "        print('\\tModelo criado')\n",
    "    @staticmethod\n",
    "    def obter_reflexividade_transmissividade():\n",
    "        lista = [Camada(1000,1500,1),\n",
    "                 Camada(2000,2500,1)]\n",
    "        m = Modelo(lista)\n",
    "        print('\\t', m.reflex[0])\n",
    "    @staticmethod\n",
    "    def obter_pulsos_limpo():\n",
    "        lista = [Camada(1000,1000,1),\n",
    "                 Camada(2000,2000,1),\n",
    "                 Camada(3000,3000,1),\n",
    "                 Camada(4000,4000,1)]\n",
    "        m = Modelo(lista)\n",
    "        print(m.obter_pulsos_limpo(t_max=10))\n",
    "    @staticmethod\n",
    "    def obter_pulsos():\n",
    "        lista = [Camada(1000,1000,1),\n",
    "                 Camada(2000,2000,1),\n",
    "                 Camada(3000,3000,1),\n",
    "                 Camada(4000,4000,1)]\n",
    "        m = Modelo(lista)\n",
    "        print(m.obter_pulsos(t_max=10))\n",
    "Teste.testar()"
   ],
   "metadata": {
    "collapsed": false,
    "pycharm": {
     "name": "#%%\n"
    }
   }
  }
 ],
 "metadata": {
  "interpreter": {
   "hash": "c6e4e9f98eb68ad3b7c296f83d20e6de614cb42e90992a65aa266555a3137d0d"
  },
  "kernelspec": {
   "display_name": "Python 3.9.4 ('base')",
   "language": "python",
   "name": "python3"
  },
  "language_info": {
   "codemirror_mode": {
    "name": "ipython",
    "version": 3
   },
   "file_extension": ".py",
   "mimetype": "text/x-python",
   "name": "python",
   "nbconvert_exporter": "python",
   "pygments_lexer": "ipython3",
   "version": "3.9.4"
  },
  "orig_nbformat": 4
 },
 "nbformat": 4,
 "nbformat_minor": 2
}