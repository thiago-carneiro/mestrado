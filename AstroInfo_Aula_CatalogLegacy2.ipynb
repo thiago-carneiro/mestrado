{
  "nbformat": 4,
  "nbformat_minor": 0,
  "metadata": {
    "kernelspec": {
      "display_name": "Python 3",
      "language": "python",
      "name": "python3"
    },
    "language_info": {
      "codemirror_mode": {
        "name": "ipython",
        "version": 3
      },
      "file_extension": ".py",
      "mimetype": "text/x-python",
      "name": "python",
      "nbconvert_exporter": "python",
      "pygments_lexer": "ipython3",
      "version": "3.6.9"
    },
    "colab": {
      "name": " AstroInfo_Aula_CatalogLegacy.ipynb",
      "provenance": [],
      "collapsed_sections": [],
      "include_colab_link": true
    }
  },
  "cells": [
    {
      "cell_type": "markdown",
      "metadata": {
        "id": "view-in-github",
        "colab_type": "text"
      },
      "source": [
        "<a href=\"https://colab.research.google.com/github/thiago-carneiro/mestrado/blob/master/AstroInfo_Aula_CatalogLegacy2.ipynb\" target=\"_parent\"><img src=\"https://colab.research.google.com/assets/colab-badge.svg\" alt=\"Open In Colab\"/></a>"
      ]
    },
    {
      "cell_type": "markdown",
      "metadata": {
        "id": "IA9y2cGl2aFV"
      },
      "source": [
        "<img src=\"https://farm66.staticflickr.com/65535/49055715328_092031af74_o.png\"  width=\"150\" />\n",
        "\n",
        "### CBPF - Centro Brasileiro de Pesquisas Físicas\n",
        "\n",
        "# Aula 3 - Professor: Clécio R De Bom\n",
        "\n",
        "\n",
        "# Legacy: Catalog manipulation\n",
        "\n",
        "\n",
        "This notebook will illustrate the basics of catalog manipulation, which contains the of data Legacy.\n",
        "\n",
        "**Contact:** debom@cbpf.br</font>\n",
        "/\n",
        "<a href=\"www.clearnightsrthebest.com\">clearnightsrthebest.com</a>\n",
        "\n",
        "<font size=\"2\">\n",
        "\n",
        "Please do not remove this disclaimer.</font>"
      ]
    },
    {
      "cell_type": "markdown",
      "metadata": {
        "id": "8e75SL6wUXnt"
      },
      "source": [
        "# Pre-requirements\n",
        "\n",
        "Download the file catalog from page \n",
        "\n",
        "https://www.dropbox.com/s/pkiccdls9k2jrkz/legacy_dr8_class.fits?dl=0"
      ]
    },
    {
      "cell_type": "code",
      "metadata": {
        "id": "MliJN7qX2IXR",
        "colab": {
          "base_uri": "https://localhost:8080/"
        },
        "outputId": "7285cd0f-f211-4ddf-d4b1-e03cd383c74d"
      },
      "source": [
        "!wget -O legacy_dr8_class.fits \"https://www.dropbox.com/s/pkiccdls9k2jrkz/legacy_dr8_class.fits?dl=1\"\n",
        "!ls"
      ],
      "execution_count": 1,
      "outputs": [
        {
          "output_type": "stream",
          "name": "stdout",
          "text": [
            "--2021-09-21 20:18:35--  https://www.dropbox.com/s/pkiccdls9k2jrkz/legacy_dr8_class.fits?dl=1\n",
            "Resolving www.dropbox.com (www.dropbox.com)... 162.125.65.18, 2620:100:6021:18::a27d:4112\n",
            "Connecting to www.dropbox.com (www.dropbox.com)|162.125.65.18|:443... connected.\n",
            "HTTP request sent, awaiting response... 301 Moved Permanently\n",
            "Location: /s/dl/pkiccdls9k2jrkz/legacy_dr8_class.fits [following]\n",
            "--2021-09-21 20:18:35--  https://www.dropbox.com/s/dl/pkiccdls9k2jrkz/legacy_dr8_class.fits\n",
            "Reusing existing connection to www.dropbox.com:443.\n",
            "HTTP request sent, awaiting response... 302 Found\n",
            "Location: https://ucf015fac949a682ec1efdd9e6ef.dl.dropboxusercontent.com/cd/0/get/BWm_DXOmQrXqimEeIYEaaFOL5TfnmWyzTz5ioGcr4XBWjyXstT4gum5ku-ROSDwvfGt0Ou0tGgUeUz_Pe9CySDgVGj-lubUvbF2SWAzF92YupnsB9UI7aiy5OFlDfrh8yXtlbS6FiFhWHAUbboWaMBuB/file?dl=1# [following]\n",
            "--2021-09-21 20:18:36--  https://ucf015fac949a682ec1efdd9e6ef.dl.dropboxusercontent.com/cd/0/get/BWm_DXOmQrXqimEeIYEaaFOL5TfnmWyzTz5ioGcr4XBWjyXstT4gum5ku-ROSDwvfGt0Ou0tGgUeUz_Pe9CySDgVGj-lubUvbF2SWAzF92YupnsB9UI7aiy5OFlDfrh8yXtlbS6FiFhWHAUbboWaMBuB/file?dl=1\n",
            "Resolving ucf015fac949a682ec1efdd9e6ef.dl.dropboxusercontent.com (ucf015fac949a682ec1efdd9e6ef.dl.dropboxusercontent.com)... 162.125.66.15, 2620:100:6027:15::a27d:480f\n",
            "Connecting to ucf015fac949a682ec1efdd9e6ef.dl.dropboxusercontent.com (ucf015fac949a682ec1efdd9e6ef.dl.dropboxusercontent.com)|162.125.66.15|:443... connected.\n",
            "HTTP request sent, awaiting response... 200 OK\n",
            "Length: 35827200 (34M) [application/binary]\n",
            "Saving to: ‘legacy_dr8_class.fits’\n",
            "\n",
            "legacy_dr8_class.fi 100%[===================>]  34.17M  17.8MB/s    in 1.9s    \n",
            "\n",
            "2021-09-21 20:18:38 (17.8 MB/s) - ‘legacy_dr8_class.fits’ saved [35827200/35827200]\n",
            "\n",
            "legacy_dr8_class.fits  sample_data\n"
          ]
        }
      ]
    },
    {
      "cell_type": "markdown",
      "metadata": {
        "id": "YTZH6UCoZnUG"
      },
      "source": [
        "## Import necessary packages"
      ]
    },
    {
      "cell_type": "code",
      "metadata": {
        "id": "Sp7qdQaTZGyT"
      },
      "source": [
        "from astropy.io import fits\n",
        "from astropy.table import Table\n",
        "import numpy as np\n",
        "import matplotlib.pyplot as plt\n",
        "%matplotlib inline\n",
        "import pandas as pd\n",
        "import seaborn\n",
        "import os\n"
      ],
      "execution_count": 2,
      "outputs": []
    },
    {
      "cell_type": "markdown",
      "metadata": {
        "id": "Q3Sko_F_ZrAh"
      },
      "source": [
        "# Open catalog from fits table using astropy package"
      ]
    },
    {
      "cell_type": "code",
      "metadata": {
        "colab": {
          "base_uri": "https://localhost:8080/"
        },
        "id": "8Wz8yPT4ZsMN",
        "outputId": "f4c26fd5-46e9-4971-cbdf-a4ef39fba695"
      },
      "source": [
        "hdul = fits.open(\"legacy_dr8_class.fits\", ignore_missing_end=True) \n",
        "data = hdul[1].data # table extensions can't be the first extension, so there's a dummy image extension at 1\n",
        "cat_table = Table(data)\n",
        "cols=cat_table.columns\n",
        "print(cat_table)\n",
        "print(cols)"
      ],
      "execution_count": 3,
      "outputs": [
        {
          "output_type": "stream",
          "name": "stdout",
          "text": [
            "        ra                dec         ...        z_spec       training\n",
            "------------------ ------------------ ... ------------------- --------\n",
            "219.08289517954503  34.62503563674176 ...               -99.0      0.0\n",
            "  219.018686653907  34.62537369835652 ...               -99.0      0.0\n",
            " 218.9763831277981 34.626465741964694 ... 0.20600000023841858      1.0\n",
            "218.92461988134852  34.62559613136096 ...               -99.0      0.0\n",
            "219.10422528282172  34.62584794653823 ...               -99.0      0.0\n",
            " 219.1401551191026  34.63060062779776 ...               -99.0      0.0\n",
            "219.07940419061788   34.6265108832743 ...               -99.0      0.0\n",
            "218.95238017111876  34.62802154931848 ...               -99.0      0.0\n",
            "  219.106935147277  34.62930367862053 ...               -99.0      0.0\n",
            " 218.8540579148524 34.629540769545564 ...               -99.0      0.0\n",
            "               ...                ... ...                 ...      ...\n",
            "221.40034030049185   35.0263478059078 ...               -99.0      0.0\n",
            "221.21341570910084  35.02652589733039 ...               -99.0      0.0\n",
            "221.34627062620686  35.02733705635163 ...               -99.0      0.0\n",
            "221.19423561762164  35.02943056089883 ...               -99.0      0.0\n",
            "221.30998851742496  35.03107476388605 ...               -99.0      0.0\n",
            "221.30899510953466  35.02957290846069 ...               -99.0      0.0\n",
            " 221.3846269372925  35.03130360684637 ...               -99.0      0.0\n",
            "221.26710586697644  35.03265425222566 ...               -99.0      0.0\n",
            "221.35793083937708   35.0319557953791 ...               -99.0      0.0\n",
            "221.14003466677406 35.031834870454304 ...               -99.0      0.0\n",
            "221.30611517880223 35.032600651235455 ...               -99.0      0.0\n",
            "Length = 203484 rows\n",
            "<TableColumns names=('ra','dec','MAG_R','MAG_G','MAG_Z','MAG_W1','MAG_W2','MAG_W3','MAG_W4','MAGErr_R','MAGErr_G','MAGErr_Z','MAGErr_W1','MAGErr_W2','MAGErr_W3','MAGErr_W4','z','zErr','zmin','zmax','z_spec','training')>\n"
          ]
        }
      ]
    },
    {
      "cell_type": "markdown",
      "metadata": {
        "id": "3pR8zJblYt-4"
      },
      "source": [
        "# Constructing Pandas DataFrame from Table fits"
      ]
    },
    {
      "cell_type": "code",
      "metadata": {
        "colab": {
          "base_uri": "https://localhost:8080/"
        },
        "id": "UXAvDKAtYiiQ",
        "outputId": "fa16e575-7a4a-4370-c326-de954e565638"
      },
      "source": [
        "df = cat_table.to_pandas()\n",
        "print(df)"
      ],
      "execution_count": 4,
      "outputs": [
        {
          "output_type": "stream",
          "name": "stdout",
          "text": [
            "                ra        dec      MAG_R  ...      zmax  z_spec  training\n",
            "0       219.082895  34.625036  22.280201  ...  0.863962 -99.000       0.0\n",
            "1       219.018687  34.625374  20.950979  ...  0.397827 -99.000       0.0\n",
            "2       218.976383  34.626466  18.890739  ...  0.230530   0.206       1.0\n",
            "3       218.924620  34.625596  20.606371  ...  0.588631 -99.000       0.0\n",
            "4       219.104225  34.625848  20.372391  ...  0.257679 -99.000       0.0\n",
            "...            ...        ...        ...  ...       ...     ...       ...\n",
            "203479  221.384627  35.031304  20.289848  ...  0.430521 -99.000       0.0\n",
            "203480  221.267106  35.032654  22.278854  ...  0.598062 -99.000       0.0\n",
            "203481  221.357931  35.031956  21.256090  ...  0.568702 -99.000       0.0\n",
            "203482  221.140035  35.031835  20.928772  ...  0.596554 -99.000       0.0\n",
            "203483  221.306115  35.032601  22.024387  ...  0.773673 -99.000       0.0\n",
            "\n",
            "[203484 rows x 22 columns]\n"
          ]
        }
      ]
    },
    {
      "cell_type": "markdown",
      "metadata": {
        "id": "MmXYOVRw1i4w"
      },
      "source": [
        "# Add column Pandas DataFrame"
      ]
    },
    {
      "cell_type": "code",
      "metadata": {
        "colab": {
          "base_uri": "https://localhost:8080/"
        },
        "id": "dnGXqmCG1taK",
        "outputId": "284eb2a4-28f9-41bc-a5db-554d6384c47b"
      },
      "source": [
        "new_col = \"_id\" # name new column\n",
        "df['ra'] = df['ra'].astype(str) # change numbers to string\n",
        "df['dec'] = df['dec'].astype(str) # change numbers to string\n",
        "df[new_col] = df['ra'] + df['dec'] # join two columns\n",
        "print(df)"
      ],
      "execution_count": 5,
      "outputs": [
        {
          "output_type": "stream",
          "name": "stdout",
          "text": [
            "                        ra  ...                                   _id\n",
            "0       219.08289517954503  ...   219.0828951795450334.62503563674176\n",
            "1         219.018686653907  ...     219.01868665390734.62537369835652\n",
            "2        218.9763831277981  ...   218.976383127798134.626465741964694\n",
            "3       218.92461988134852  ...   218.9246198813485234.62559613136096\n",
            "4       219.10422528282172  ...   219.1042252828217234.62584794653823\n",
            "...                    ...  ...                                   ...\n",
            "203479   221.3846269372925  ...    221.384626937292535.03130360684637\n",
            "203480  221.26710586697644  ...   221.2671058669764435.03265425222566\n",
            "203481  221.35793083937708  ...    221.3579308393770835.0319557953791\n",
            "203482  221.14003466677406  ...  221.1400346667740635.031834870454304\n",
            "203483  221.30611517880223  ...  221.3061151788022335.032600651235455\n",
            "\n",
            "[203484 rows x 23 columns]\n"
          ]
        }
      ]
    },
    {
      "cell_type": "markdown",
      "metadata": {
        "id": "h77Gx8xJ4xgt"
      },
      "source": [
        "#Splitting in two Dataframe"
      ]
    },
    {
      "cell_type": "code",
      "metadata": {
        "colab": {
          "base_uri": "https://localhost:8080/"
        },
        "id": "9YcqLD514pLP",
        "outputId": "e474faf4-870c-4878-e995-337b8514a367"
      },
      "source": [
        "print(\"Daframe 1\")\n",
        "df_1 = df.iloc[:,2:-7] # set mags columns dataframe 1 from dataframe\n",
        "df_1[new_col] = df[new_col] # insert ID column\n",
        "cols1 = df_1.columns.tolist()\n",
        "cols1 = cols1[-1:] + cols1[:-1] # set first column _id\n",
        "df_1 = df_1[cols1] # set first column _id\n",
        "print(df_1)\n",
        "print(df_1.columns.tolist())\n",
        "print(\"********************************\")\n",
        "print(\"Daframe 2\")\n",
        "df_2 = df.iloc[:,-7:-2] # set photoz columns dataframe 1 from dataframe\n",
        "df_2[new_col] = df[new_col] # insert ID column\n",
        "cols2 = df_2.columns.tolist()\n",
        "cols2 = cols2[-1:] + cols2[:-1] # set first column _id\n",
        "df_2 = df_2[cols2] # set first column _id\n",
        "print(df_2)\n",
        "print(df_2.columns.tolist())"
      ],
      "execution_count": 6,
      "outputs": [
        {
          "output_type": "stream",
          "name": "stdout",
          "text": [
            "Daframe 1\n",
            "                                         _id      MAG_R  ...  MAGErr_W3  MAGErr_W4\n",
            "0        219.0828951795450334.62503563674176  22.280201  ...   0.114776  -0.075900\n",
            "1          219.01868665390734.62537369835652  20.950979  ...   0.706567  -0.799649\n",
            "2        218.976383127798134.626465741964694  18.890739  ...  -9.551555  -0.682852\n",
            "3        218.9246198813485234.62559613136096  20.606371  ...   4.317370  -0.843075\n",
            "4        219.1042252828217234.62584794653823  20.372391  ...   1.281699   1.788509\n",
            "...                                      ...        ...  ...        ...        ...\n",
            "203479    221.384626937292535.03130360684637  20.289848  ...  18.655874  -0.504265\n",
            "203480   221.2671058669764435.03265425222566  22.278854  ...  -0.115952   0.318850\n",
            "203481    221.3579308393770835.0319557953791  21.256090  ...   0.324572   0.561515\n",
            "203482  221.1400346667740635.031834870454304  20.928772  ...  -1.286056  -0.460461\n",
            "203483  221.3061151788022335.032600651235455  22.024387  ...  -0.767880  -0.541523\n",
            "\n",
            "[203484 rows x 15 columns]\n",
            "['_id', 'MAG_R', 'MAG_G', 'MAG_Z', 'MAG_W1', 'MAG_W2', 'MAG_W3', 'MAG_W4', 'MAGErr_R', 'MAGErr_G', 'MAGErr_Z', 'MAGErr_W1', 'MAGErr_W2', 'MAGErr_W3', 'MAGErr_W4']\n",
            "********************************\n",
            "Daframe 2\n",
            "                                         _id         z  ...      zmax  z_spec\n",
            "0        219.0828951795450334.62503563674176  0.778901  ...  0.863962 -99.000\n",
            "1          219.01868665390734.62537369835652  0.335511  ...  0.397827 -99.000\n",
            "2        218.976383127798134.626465741964694  0.219682  ...  0.230530   0.206\n",
            "3        218.9246198813485234.62559613136096  0.542923  ...  0.588631 -99.000\n",
            "4        219.1042252828217234.62584794653823  0.227206  ...  0.257679 -99.000\n",
            "...                                      ...       ...  ...       ...     ...\n",
            "203479    221.384626937292535.03130360684637  0.399513  ...  0.430521 -99.000\n",
            "203480   221.2671058669764435.03265425222566  0.525794  ...  0.598062 -99.000\n",
            "203481    221.3579308393770835.0319557953791  0.497148  ...  0.568702 -99.000\n",
            "203482  221.1400346667740635.031834870454304  0.561410  ...  0.596554 -99.000\n",
            "203483  221.3061151788022335.032600651235455  0.670019  ...  0.773673 -99.000\n",
            "\n",
            "[203484 rows x 6 columns]\n",
            "['_id', 'z', 'zErr', 'zmin', 'zmax', 'z_spec']\n"
          ]
        }
      ]
    },
    {
      "cell_type": "markdown",
      "metadata": {
        "id": "iQqN9ZwAad04"
      },
      "source": [
        "# Mounting your google drive\n",
        "\n",
        "To mount your google drive:\n",
        "click in showed link and set your account google get token "
      ]
    },
    {
      "cell_type": "code",
      "metadata": {
        "colab": {
          "base_uri": "https://localhost:8080/"
        },
        "id": "74yVeL9haZc_",
        "outputId": "1c17c41b-3afd-4378-ad63-65929e012edc"
      },
      "source": [
        "from google.colab import drive\n",
        "drive.mount('/content/drive')\n",
        "DriveSave = '/content/drive/MyDrive' # define folder save in Google Drive"
      ],
      "execution_count": 7,
      "outputs": [
        {
          "output_type": "stream",
          "name": "stdout",
          "text": [
            "Mounted at /content/drive\n"
          ]
        }
      ]
    },
    {
      "cell_type": "markdown",
      "metadata": {
        "id": "51TYaId_ZIKr"
      },
      "source": [
        "# Saving New Catalogs with Pandas Dataframe in csv \n",
        "\n",
        "\n",
        "(Google Drive)"
      ]
    },
    {
      "cell_type": "code",
      "metadata": {
        "id": "rKjQg-t5ZQtB"
      },
      "source": [
        "df_1.to_csv(os.path.join(DriveSave,'LegacyCatalog1.csv'), index=False)\n",
        "df_2.to_csv(os.path.join(DriveSave,'LegacyCatalog2.csv'), index=False)\n"
      ],
      "execution_count": 8,
      "outputs": []
    },
    {
      "cell_type": "markdown",
      "metadata": {
        "id": "joz1TpHPiQpt"
      },
      "source": [
        "# Loading New Catalogs with Pandas Dataframe in csv "
      ]
    },
    {
      "cell_type": "code",
      "metadata": {
        "id": "w6fvP6Z8iOtG"
      },
      "source": [
        "df_1 = pd.read_csv(os.path.join(DriveSave,'LegacyCatalog1.csv')) \n",
        "df_2 = pd.read_csv(os.path.join(DriveSave,'LegacyCatalog2.csv')) "
      ],
      "execution_count": 9,
      "outputs": []
    },
    {
      "cell_type": "markdown",
      "metadata": {
        "id": "YTSAJdM3DO6B"
      },
      "source": [
        "# Using the _id column as a reference finally we can now performance the join operation"
      ]
    },
    {
      "cell_type": "code",
      "metadata": {
        "colab": {
          "base_uri": "https://localhost:8080/"
        },
        "id": "BDiGKk_jDPqV",
        "outputId": "bef2cecf-2c25-4abd-8909-ec9fdadc8026"
      },
      "source": [
        "DF_mag = df_1.set_index(new_col)\n",
        "DF = df_2.join(DF_mag, on=new_col)\n",
        "print(DF)\n",
        "print(DF.columns.tolist())"
      ],
      "execution_count": 10,
      "outputs": [
        {
          "output_type": "stream",
          "name": "stdout",
          "text": [
            "                                         _id         z  ...  MAGErr_W3  MAGErr_W4\n",
            "0        219.0828951795450334.62503563674176  0.778901  ...   0.114776  -0.075900\n",
            "1          219.01868665390734.62537369835652  0.335511  ...   0.706567  -0.799649\n",
            "2        218.976383127798134.626465741964694  0.219682  ...  -9.551555  -0.682852\n",
            "3        218.9246198813485234.62559613136096  0.542923  ...   4.317370  -0.843075\n",
            "4        219.1042252828217234.62584794653823  0.227206  ...   1.281699   1.788509\n",
            "...                                      ...       ...  ...        ...        ...\n",
            "203479    221.384626937292535.03130360684637  0.399513  ...  18.655874  -0.504265\n",
            "203480   221.2671058669764435.03265425222566  0.525794  ...  -0.115952   0.318850\n",
            "203481    221.3579308393770835.0319557953791  0.497148  ...   0.324572   0.561515\n",
            "203482  221.1400346667740635.031834870454304  0.561410  ...  -1.286056  -0.460461\n",
            "203483  221.3061151788022335.032600651235455  0.670019  ...  -0.767880  -0.541523\n",
            "\n",
            "[203622 rows x 20 columns]\n",
            "['_id', 'z', 'zErr', 'zmin', 'zmax', 'z_spec', 'MAG_R', 'MAG_G', 'MAG_Z', 'MAG_W1', 'MAG_W2', 'MAG_W3', 'MAG_W4', 'MAGErr_R', 'MAGErr_G', 'MAGErr_Z', 'MAGErr_W1', 'MAGErr_W2', 'MAGErr_W3', 'MAGErr_W4']\n"
          ]
        }
      ]
    },
    {
      "cell_type": "markdown",
      "metadata": {
        "id": "m0pR3II87CpY"
      },
      "source": [
        "# Now save and load new dataframe in table fits"
      ]
    },
    {
      "cell_type": "code",
      "metadata": {
        "colab": {
          "base_uri": "https://localhost:8080/"
        },
        "id": "ZuBc5ToE7DSZ",
        "outputId": "a59dbed9-c3d9-4c0a-e1e9-08b49348f2c9"
      },
      "source": [
        "t2 = Table.from_pandas(DF)\n",
        "fits_table_filename = os.path.join(DriveSave,'NewLegacyCatalog.fits')\n",
        "hdu = fits.BinTableHDU(data=t2)\n",
        "hdu.writeto(fits_table_filename, overwrite=True)\n",
        "\n",
        "hdul = fits.open(fits_table_filename, ignore_missing_end=True) \n",
        "data = hdul[1].data # table extensions can't be the first extension, so there's a dummy image extension at 1\n",
        "cat_table = Table(data)\n",
        "cols=cat_table.columns\n",
        "print(cat_table)\n",
        "print(cols)"
      ],
      "execution_count": 11,
      "outputs": [
        {
          "output_type": "stream",
          "name": "stdout",
          "text": [
            "                _id                           z          ...      MAGErr_W4     \n",
            "------------------------------------ ------------------- ... -------------------\n",
            " 219.0828951795450334.62503563674176   0.778901219367981 ... -0.0759001150727272\n",
            "   219.01868665390734.62537369835652 0.33551111817359924 ... -0.7996485233306885\n",
            " 218.976383127798134.626465741964694 0.21968227624893188 ... -0.6828519701957703\n",
            " 218.9246198813485234.62559613136096   0.542923092842102 ... -0.8430752158164978\n",
            " 219.1042252828217234.62584794653823   0.227205827832222 ...  1.7885087728500366\n",
            "  219.140155119102634.63060062779776  0.4622515141963959 ... -0.8408935666084291\n",
            "  219.0794041906178834.6265108832743  0.7665448784828186 ... -2.6986157894134517\n",
            " 218.9523801711187634.62802154931848  0.6852128505706787 ...   9.755480766296387\n",
            "   219.10693514727734.62930367862053  0.4312166571617127 ...  0.9499387741088868\n",
            " 218.854057914852434.629540769545564 0.26132190227508545 ...  -0.916178584098816\n",
            "                                 ...                 ... ...                 ...\n",
            "  221.4003403004918535.0263478059078  0.5409442782402039 ...  -6.806373596191406\n",
            " 221.2134157091008435.02652589733039  0.8735336661338806 ...   6.721795082092285\n",
            " 221.3462706262068635.02733705635163  0.5316070914268494 ... -0.3180425465106964\n",
            " 221.1942356176216435.02943056089883  0.3978888988494873 ...  0.5671564936637878\n",
            " 221.3099885174249635.03107476388605  0.4882799386978149 ...  19.238523483276367\n",
            " 221.3089951095346635.02957290846069  0.8793555498123169 ...   2.468910217285156\n",
            "  221.384626937292535.03130360684637 0.39951348304748535 ... -0.5042646527290344\n",
            " 221.2671058669764435.03265425222566  0.5257939696311951 ... 0.31885048747062683\n",
            "  221.3579308393770835.0319557953791  0.4971484541893005 ...  0.5615150332450867\n",
            "221.1400346667740635.031834870454304  0.5614101886749268 ... -0.4604606926441193\n",
            "221.3061151788022335.032600651235455  0.6700193881988525 ... -0.5415232181549072\n",
            "Length = 203622 rows\n",
            "<TableColumns names=('_id','z','zErr','zmin','zmax','z_spec','MAG_R','MAG_G','MAG_Z','MAG_W1','MAG_W2','MAG_W3','MAG_W4','MAGErr_R','MAGErr_G','MAGErr_Z','MAGErr_W1','MAGErr_W2','MAGErr_W3','MAGErr_W4')>\n"
          ]
        }
      ]
    },
    {
      "cell_type": "markdown",
      "metadata": {
        "id": "eVprdVG6Gl2e"
      },
      "source": [
        "# Set Dataframe condition (mag R < 20)"
      ]
    },
    {
      "cell_type": "code",
      "metadata": {
        "colab": {
          "base_uri": "https://localhost:8080/"
        },
        "id": "OeUMNKitGmvQ",
        "outputId": "62737b0a-0f29-4e90-a909-eec32b45336c"
      },
      "source": [
        "DFMAGR20 = DF[DF['MAG_R'] < 20]\n",
        "print(DFMAGR20)"
      ],
      "execution_count": 12,
      "outputs": [
        {
          "output_type": "stream",
          "name": "stdout",
          "text": [
            "                                         _id         z  ...  MAGErr_W3  MAGErr_W4\n",
            "2        218.976383127798134.626465741964694  0.219682  ...  -9.551555  -0.682852\n",
            "14        219.119427344439634.63266943455789  0.181169  ...   0.065676   0.428052\n",
            "27      219.1050832410185834.637306709538635  0.195434  ...   0.251950   2.410352\n",
            "28       219.1116303379641334.63846217402524  0.195882  ...  -4.193285  -0.575248\n",
            "30        218.893899457402334.63850522158348  0.383395  ...   0.304107   2.751483\n",
            "...                                      ...       ...  ...        ...        ...\n",
            "203438    221.260260333561435.01373075174152  0.400500  ...   0.255466   0.456562\n",
            "203440    221.402609501773135.01676962316078  0.150196  ...   0.245604   0.292380\n",
            "203441    221.403223664121935.01955191933627  0.131958  ...   0.234937   1.065051\n",
            "203450    221.407621549922235.01804876804364  0.508276  ...   0.501685  -0.575829\n",
            "203457   221.3141799824552235.02015887305804  0.202796  ...  -1.734960   2.927527\n",
            "\n",
            "[32009 rows x 20 columns]\n"
          ]
        }
      ]
    },
    {
      "cell_type": "markdown",
      "metadata": {
        "id": "tC_oqV_2FKK9"
      },
      "source": [
        "# Fit mag R and mag R < 20 using dataframe plot histogram"
      ]
    },
    {
      "cell_type": "code",
      "metadata": {
        "colab": {
          "base_uri": "https://localhost:8080/",
          "height": 506
        },
        "id": "GV_-Kf5QFK8p",
        "outputId": "a8074ed2-ad4a-4c1d-ceb1-74fa2710061f"
      },
      "source": [
        "\n",
        "hor = 3\n",
        "ver = 1\n",
        "\n",
        "plt.style.use('classic')\n",
        "\n",
        "fig = plt.figure(figsize=(14, 6), constrained_layout=True)\n",
        "gs = fig.add_gridspec(ver, hor, left=0.1, right=0.5, wspace=0.1)\n",
        "\n",
        "\n",
        "binsize=0.2\n",
        "def binarange(arr, binsize):\n",
        "    return np.arange(np.nanmin(arr), np.nanmax(arr)+binsize, binsize)\n",
        "\n",
        "\n",
        "ax = fig.add_subplot(gs[0, 0])\n",
        "bins0 = binarange(DF[\"MAG_R\"], binsize)\n",
        "ax = DF[\"MAG_R\"].plot.hist(bins=bins0, color='blue', alpha=0.7, label=\"MAG_R\")\n",
        "ax.set_title(\"MAG_R\")\n",
        "plt.legend(loc='upper left')\n",
        "\n",
        "ax = fig.add_subplot(gs[0, 1])\n",
        "bins1 = binarange(DFMAGR20[\"MAG_R\"], binsize)\n",
        "ax = DFMAGR20[\"MAG_R\"].plot.hist(bins=bins1, color='green', alpha=0.7, label=\"MAG_R < 20\")\n",
        "ax.set_title(\"MAG_R < 20\")\n",
        "plt.legend(loc='upper left')\n",
        "\n",
        "ax = fig.add_subplot(gs[0, 2])\n",
        "ax = DF[\"MAG_R\"].plot.hist(bins=bins0, color='blue', alpha=0.5, label=\"MAG_R\")\n",
        "ax = DFMAGR20[\"MAG_R\"].plot.hist(bins=bins0, color='green', alpha=0.5, label=\"MAG_R < 20\") # equal bins all mag r\n",
        "ax.set_title(\"Compare MAG_R and MAG_R < 20\")\n",
        "plt.legend(loc='upper left')\n",
        "\n",
        "plt.show\n",
        "plt.savefig(os.path.join(DriveSave,'PlotsHist_MAGR_Legacy.png'))"
      ],
      "execution_count": 13,
      "outputs": [
        {
          "output_type": "display_data",
          "data": {
            "image/png": "[encoded data removed]",
            "text/plain": [
              "<Figure size 1120x480 with 3 Axes>"
            ]
          },
          "metadata": {}
        }
      ]
    },
    {
      "cell_type": "markdown",
      "metadata": {
        "id": "kVwwbiTykwyu"
      },
      "source": [
        "# Saving and Load mag R in file format numpy python (.npy)"
      ]
    },
    {
      "cell_type": "code",
      "metadata": {
        "id": "ga6J8LTvkxqi"
      },
      "source": [
        "np.save(os.path.join(DriveSave,'Array_MAGR.npy'), np.array(DFMAGR20[\"MAG_R\"]))\n",
        "MAG_R = np.load(os.path.join(DriveSave,'Array_MAGR.npy'))"
      ],
      "execution_count": 14,
      "outputs": []
    },
    {
      "cell_type": "markdown",
      "metadata": {
        "id": "S-LmM131x4fc"
      },
      "source": [
        "# Fitting with Seaborn mag R < 20 \n"
      ]
    },
    {
      "cell_type": "code",
      "metadata": {
        "colab": {
          "base_uri": "https://localhost:8080/",
          "height": 594
        },
        "id": "fybwuS9OyI17",
        "outputId": "424446c2-0837-4d5f-d3d7-6d90bffa7d7b"
      },
      "source": [
        "\n",
        "fig = plt.figure(figsize=(8,8))\n",
        "ax = seaborn.histplot(x=MAG_R, bins=bins1, label=\"MAG_R < 20 From Numpy\")\n",
        "ax.set_xlabel('$MAG_{R}$', fontsize=16)\n",
        "ax.legend(loc=\"best\")\n",
        "plt.savefig(os.path.join(DriveSave,'Hist_MAGR20_Legacy.png'))"
      ],
      "execution_count": 15,
      "outputs": [
        {
          "output_type": "display_data",
          "data": {
            "image/png": "[encoded data removed]",
            "text/plain": [
              "<Figure size 640x640 with 1 Axes>"
            ]
          },
          "metadata": {}
        }
      ]
    },
    {
      "cell_type": "code",
      "metadata": {
        "colab": {
          "base_uri": "https://localhost:8080/"
        },
        "id": "4kf0sfMqzEHX",
        "outputId": "ad132758-22cd-4d28-ed3b-9aae6dd03270"
      },
      "source": [
        "print(\"######## List files in local google colab:\")\n",
        "# !ls \n",
        "print(\"******** List files in your google drive:\")\n",
        "# !ls drive/MyDrive/ \n"
      ],
      "execution_count": 16,
      "outputs": [
        {
          "output_type": "stream",
          "name": "stdout",
          "text": [
            "######## List files in local google colab:\n",
            "******** List files in your google drive:\n"
          ]
        }
      ]
    },
    {
      "cell_type": "code",
      "metadata": {
        "colab": {
          "base_uri": "https://localhost:8080/"
        },
        "id": "AM_UFfxyFvh_",
        "outputId": "d0af59c5-48ad-48b1-9990-c9996eb8a0c8"
      },
      "source": [
        "selecao=(pd.cut(DF['MAG_R'],20)==pd.Interval(21.788, 22.329, closed='right'))\n",
        "DF[selecao].MAGErr_R.median()"
      ],
      "execution_count": 33,
      "outputs": [
        {
          "output_type": "execute_result",
          "data": {
            "text/plain": [
              "0.062048010528087616"
            ]
          },
          "metadata": {},
          "execution_count": 33
        }
      ]
    },
    {
      "cell_type": "code",
      "metadata": {
        "colab": {
          "base_uri": "https://localhost:8080/",
          "height": 334
        },
        "id": "6joImTVqA2gn",
        "outputId": "eadcc4a5-572e-42a9-abb9-b82a10eb52fa"
      },
      "source": [
        "binned = pd.cut(DF['MAG_R'],10)\n",
        "\n",
        "erro_medio=dict()\n",
        "ponto_medio=dict()\n",
        "\n",
        "for bin in binned.unique():\n",
        "  #print(bin,'\\n',DF[binned==bin].MAGErr_R.mean())\n",
        "  ponto_medio[bin]=DF[binned==bin].MAG_R.mean()\n",
        "  erro_medio[bin]=DF[binned==bin].MAGErr_R.mean()\n",
        "\n",
        "pd.DataFrame(ponto_medio)"
      ],
      "execution_count": 44,
      "outputs": [
        {
          "output_type": "error",
          "ename": "ValueError",
          "evalue": "ignored",
          "traceback": [
            "\u001b[0;31m---------------------------------------------------------------------------\u001b[0m",
            "\u001b[0;31mValueError\u001b[0m                                Traceback (most recent call last)",
            "\u001b[0;32m<ipython-input-44-e030ecb480a6>\u001b[0m in \u001b[0;36m<module>\u001b[0;34m()\u001b[0m\n\u001b[1;32m      9\u001b[0m   \u001b[0merro_medio\u001b[0m\u001b[0;34m[\u001b[0m\u001b[0mbin\u001b[0m\u001b[0;34m]\u001b[0m\u001b[0;34m=\u001b[0m\u001b[0mDF\u001b[0m\u001b[0;34m[\u001b[0m\u001b[0mbinned\u001b[0m\u001b[0;34m==\u001b[0m\u001b[0mbin\u001b[0m\u001b[0;34m]\u001b[0m\u001b[0;34m.\u001b[0m\u001b[0mMAGErr_R\u001b[0m\u001b[0;34m.\u001b[0m\u001b[0mmean\u001b[0m\u001b[0;34m(\u001b[0m\u001b[0;34m)\u001b[0m\u001b[0;34m\u001b[0m\u001b[0;34m\u001b[0m\u001b[0m\n\u001b[1;32m     10\u001b[0m \u001b[0;34m\u001b[0m\u001b[0m\n\u001b[0;32m---> 11\u001b[0;31m \u001b[0mpd\u001b[0m\u001b[0;34m.\u001b[0m\u001b[0mDataFrame\u001b[0m\u001b[0;34m(\u001b[0m\u001b[0mponto_medio\u001b[0m\u001b[0;34m)\u001b[0m\u001b[0;34m\u001b[0m\u001b[0;34m\u001b[0m\u001b[0m\n\u001b[0m",
            "\u001b[0;32m/usr/local/lib/python3.7/dist-packages/pandas/core/frame.py\u001b[0m in \u001b[0;36m__init__\u001b[0;34m(self, data, index, columns, dtype, copy)\u001b[0m\n\u001b[1;32m    466\u001b[0m \u001b[0;34m\u001b[0m\u001b[0m\n\u001b[1;32m    467\u001b[0m         \u001b[0;32melif\u001b[0m \u001b[0misinstance\u001b[0m\u001b[0;34m(\u001b[0m\u001b[0mdata\u001b[0m\u001b[0;34m,\u001b[0m \u001b[0mdict\u001b[0m\u001b[0;34m)\u001b[0m\u001b[0;34m:\u001b[0m\u001b[0;34m\u001b[0m\u001b[0;34m\u001b[0m\u001b[0m\n\u001b[0;32m--> 468\u001b[0;31m             \u001b[0mmgr\u001b[0m \u001b[0;34m=\u001b[0m \u001b[0minit_dict\u001b[0m\u001b[0;34m(\u001b[0m\u001b[0mdata\u001b[0m\u001b[0;34m,\u001b[0m \u001b[0mindex\u001b[0m\u001b[0;34m,\u001b[0m \u001b[0mcolumns\u001b[0m\u001b[0;34m,\u001b[0m \u001b[0mdtype\u001b[0m\u001b[0;34m=\u001b[0m\u001b[0mdtype\u001b[0m\u001b[0;34m)\u001b[0m\u001b[0;34m\u001b[0m\u001b[0;34m\u001b[0m\u001b[0m\n\u001b[0m\u001b[1;32m    469\u001b[0m         \u001b[0;32melif\u001b[0m \u001b[0misinstance\u001b[0m\u001b[0;34m(\u001b[0m\u001b[0mdata\u001b[0m\u001b[0;34m,\u001b[0m \u001b[0mma\u001b[0m\u001b[0;34m.\u001b[0m\u001b[0mMaskedArray\u001b[0m\u001b[0;34m)\u001b[0m\u001b[0;34m:\u001b[0m\u001b[0;34m\u001b[0m\u001b[0;34m\u001b[0m\u001b[0m\n\u001b[1;32m    470\u001b[0m             \u001b[0;32mimport\u001b[0m \u001b[0mnumpy\u001b[0m\u001b[0;34m.\u001b[0m\u001b[0mma\u001b[0m\u001b[0;34m.\u001b[0m\u001b[0mmrecords\u001b[0m \u001b[0;32mas\u001b[0m \u001b[0mmrecords\u001b[0m\u001b[0;34m\u001b[0m\u001b[0;34m\u001b[0m\u001b[0m\n",
            "\u001b[0;32m/usr/local/lib/python3.7/dist-packages/pandas/core/internals/construction.py\u001b[0m in \u001b[0;36minit_dict\u001b[0;34m(data, index, columns, dtype)\u001b[0m\n\u001b[1;32m    281\u001b[0m             \u001b[0marr\u001b[0m \u001b[0;32mif\u001b[0m \u001b[0;32mnot\u001b[0m \u001b[0mis_datetime64tz_dtype\u001b[0m\u001b[0;34m(\u001b[0m\u001b[0marr\u001b[0m\u001b[0;34m)\u001b[0m \u001b[0;32melse\u001b[0m \u001b[0marr\u001b[0m\u001b[0;34m.\u001b[0m\u001b[0mcopy\u001b[0m\u001b[0;34m(\u001b[0m\u001b[0;34m)\u001b[0m \u001b[0;32mfor\u001b[0m \u001b[0marr\u001b[0m \u001b[0;32min\u001b[0m \u001b[0marrays\u001b[0m\u001b[0;34m\u001b[0m\u001b[0;34m\u001b[0m\u001b[0m\n\u001b[1;32m    282\u001b[0m         ]\n\u001b[0;32m--> 283\u001b[0;31m     \u001b[0;32mreturn\u001b[0m \u001b[0marrays_to_mgr\u001b[0m\u001b[0;34m(\u001b[0m\u001b[0marrays\u001b[0m\u001b[0;34m,\u001b[0m \u001b[0mdata_names\u001b[0m\u001b[0;34m,\u001b[0m \u001b[0mindex\u001b[0m\u001b[0;34m,\u001b[0m \u001b[0mcolumns\u001b[0m\u001b[0;34m,\u001b[0m \u001b[0mdtype\u001b[0m\u001b[0;34m=\u001b[0m\u001b[0mdtype\u001b[0m\u001b[0;34m)\u001b[0m\u001b[0;34m\u001b[0m\u001b[0;34m\u001b[0m\u001b[0m\n\u001b[0m\u001b[1;32m    284\u001b[0m \u001b[0;34m\u001b[0m\u001b[0m\n\u001b[1;32m    285\u001b[0m \u001b[0;34m\u001b[0m\u001b[0m\n",
            "\u001b[0;32m/usr/local/lib/python3.7/dist-packages/pandas/core/internals/construction.py\u001b[0m in \u001b[0;36marrays_to_mgr\u001b[0;34m(arrays, arr_names, index, columns, dtype, verify_integrity)\u001b[0m\n\u001b[1;32m     76\u001b[0m         \u001b[0;31m# figure out the index, if necessary\u001b[0m\u001b[0;34m\u001b[0m\u001b[0;34m\u001b[0m\u001b[0;34m\u001b[0m\u001b[0m\n\u001b[1;32m     77\u001b[0m         \u001b[0;32mif\u001b[0m \u001b[0mindex\u001b[0m \u001b[0;32mis\u001b[0m \u001b[0;32mNone\u001b[0m\u001b[0;34m:\u001b[0m\u001b[0;34m\u001b[0m\u001b[0;34m\u001b[0m\u001b[0m\n\u001b[0;32m---> 78\u001b[0;31m             \u001b[0mindex\u001b[0m \u001b[0;34m=\u001b[0m \u001b[0mextract_index\u001b[0m\u001b[0;34m(\u001b[0m\u001b[0marrays\u001b[0m\u001b[0;34m)\u001b[0m\u001b[0;34m\u001b[0m\u001b[0;34m\u001b[0m\u001b[0m\n\u001b[0m\u001b[1;32m     79\u001b[0m         \u001b[0;32melse\u001b[0m\u001b[0;34m:\u001b[0m\u001b[0;34m\u001b[0m\u001b[0;34m\u001b[0m\u001b[0m\n\u001b[1;32m     80\u001b[0m             \u001b[0mindex\u001b[0m \u001b[0;34m=\u001b[0m \u001b[0mensure_index\u001b[0m\u001b[0;34m(\u001b[0m\u001b[0mindex\u001b[0m\u001b[0;34m)\u001b[0m\u001b[0;34m\u001b[0m\u001b[0;34m\u001b[0m\u001b[0m\n",
            "\u001b[0;32m/usr/local/lib/python3.7/dist-packages/pandas/core/internals/construction.py\u001b[0m in \u001b[0;36mextract_index\u001b[0;34m(data)\u001b[0m\n\u001b[1;32m    385\u001b[0m \u001b[0;34m\u001b[0m\u001b[0m\n\u001b[1;32m    386\u001b[0m         \u001b[0;32mif\u001b[0m \u001b[0;32mnot\u001b[0m \u001b[0mindexes\u001b[0m \u001b[0;32mand\u001b[0m \u001b[0;32mnot\u001b[0m \u001b[0mraw_lengths\u001b[0m\u001b[0;34m:\u001b[0m\u001b[0;34m\u001b[0m\u001b[0;34m\u001b[0m\u001b[0m\n\u001b[0;32m--> 387\u001b[0;31m             \u001b[0;32mraise\u001b[0m \u001b[0mValueError\u001b[0m\u001b[0;34m(\u001b[0m\u001b[0;34m\"If using all scalar values, you must pass an index\"\u001b[0m\u001b[0;34m)\u001b[0m\u001b[0;34m\u001b[0m\u001b[0;34m\u001b[0m\u001b[0m\n\u001b[0m\u001b[1;32m    388\u001b[0m \u001b[0;34m\u001b[0m\u001b[0m\n\u001b[1;32m    389\u001b[0m         \u001b[0;32mif\u001b[0m \u001b[0mhave_series\u001b[0m\u001b[0;34m:\u001b[0m\u001b[0;34m\u001b[0m\u001b[0;34m\u001b[0m\u001b[0m\n",
            "\u001b[0;31mValueError\u001b[0m: If using all scalar values, you must pass an index"
          ]
        }
      ]
    },
    {
      "cell_type": "code",
      "metadata": {
        "id": "fy3qcI8eIhEz"
      },
      "source": [
        "binned = pd.cut(DF['MAG_G'],100)\n",
        "\n",
        "erro_medio=list()\n",
        "ponto_medio=list()\n",
        "\n",
        "for bin in sorted(binned.unique()):\n",
        "  #print(bin,'\\n',DF[binned==bin].MAGErr_R.mean())\n",
        "  ponto_medio.append(DF[binned==bin].MAG_G.mean())\n",
        "  erro_medio.append(DF[binned==bin].MAGErr_G.mean())\n",
        "\n",
        "df=pd.DataFrame(erro_medio,ponto_medio)"
      ],
      "execution_count": 56,
      "outputs": []
    },
    {
      "cell_type": "code",
      "metadata": {
        "colab": {
          "base_uri": "https://localhost:8080/",
          "height": 413
        },
        "id": "UAVjLFo0JTxP",
        "outputId": "b34407c5-82cf-4764-a319-5d9a793bc7f8"
      },
      "source": [
        "df"
      ],
      "execution_count": 57,
      "outputs": [
        {
          "output_type": "execute_result",
          "data": {
            "text/html": [
              "<div>\n",
              "<style scoped>\n",
              "    .dataframe tbody tr th:only-of-type {\n",
              "        vertical-align: middle;\n",
              "    }\n",
              "\n",
              "    .dataframe tbody tr th {\n",
              "        vertical-align: top;\n",
              "    }\n",
              "\n",
              "    .dataframe thead th {\n",
              "        text-align: right;\n",
              "    }\n",
              "</style>\n",
              "<table border=\"1\" class=\"dataframe\">\n",
              "  <thead>\n",
              "    <tr style=\"text-align: right;\">\n",
              "      <th></th>\n",
              "      <th>0</th>\n",
              "    </tr>\n",
              "  </thead>\n",
              "  <tbody>\n",
              "    <tr>\n",
              "      <th>12.774199</th>\n",
              "      <td>0.000208</td>\n",
              "    </tr>\n",
              "    <tr>\n",
              "      <th>13.091851</th>\n",
              "      <td>0.000414</td>\n",
              "    </tr>\n",
              "    <tr>\n",
              "      <th>13.283169</th>\n",
              "      <td>0.000301</td>\n",
              "    </tr>\n",
              "    <tr>\n",
              "      <th>13.416584</th>\n",
              "      <td>0.000390</td>\n",
              "    </tr>\n",
              "    <tr>\n",
              "      <th>13.498016</th>\n",
              "      <td>0.000293</td>\n",
              "    </tr>\n",
              "    <tr>\n",
              "      <th>...</th>\n",
              "      <td>...</td>\n",
              "    </tr>\n",
              "    <tr>\n",
              "      <th>26.105226</th>\n",
              "      <td>1.707287</td>\n",
              "    </tr>\n",
              "    <tr>\n",
              "      <th>26.243520</th>\n",
              "      <td>1.885999</td>\n",
              "    </tr>\n",
              "    <tr>\n",
              "      <th>26.384095</th>\n",
              "      <td>2.080953</td>\n",
              "    </tr>\n",
              "    <tr>\n",
              "      <th>26.524174</th>\n",
              "      <td>2.386213</td>\n",
              "    </tr>\n",
              "    <tr>\n",
              "      <th>26.649493</th>\n",
              "      <td>2.521469</td>\n",
              "    </tr>\n",
              "  </tbody>\n",
              "</table>\n",
              "<p>97 rows × 1 columns</p>\n",
              "</div>"
            ],
            "text/plain": [
              "                  0\n",
              "12.774199  0.000208\n",
              "13.091851  0.000414\n",
              "13.283169  0.000301\n",
              "13.416584  0.000390\n",
              "13.498016  0.000293\n",
              "...             ...\n",
              "26.105226  1.707287\n",
              "26.243520  1.885999\n",
              "26.384095  2.080953\n",
              "26.524174  2.386213\n",
              "26.649493  2.521469\n",
              "\n",
              "[97 rows x 1 columns]"
            ]
          },
          "metadata": {},
          "execution_count": 57
        }
      ]
    },
    {
      "cell_type": "code",
      "metadata": {
        "colab": {
          "base_uri": "https://localhost:8080/",
          "height": 457
        },
        "id": "3gClW_vzCoFG",
        "outputId": "7b73e3ff-6e18-4e0f-cab4-30f5e47b415e"
      },
      "source": [
        "plt.plot(df)"
      ],
      "execution_count": 58,
      "outputs": [
        {
          "output_type": "execute_result",
          "data": {
            "text/plain": [
              "[<matplotlib.lines.Line2D at 0x7f4fd40781d0>]"
            ]
          },
          "metadata": {},
          "execution_count": 58
        },
        {
          "output_type": "display_data",
          "data": {
            "image/png": "[encoded data removed]",
            "text/plain": [
              "<Figure size 640x480 with 1 Axes>"
            ]
          },
          "metadata": {}
        }
      ]
    }
  ]
}